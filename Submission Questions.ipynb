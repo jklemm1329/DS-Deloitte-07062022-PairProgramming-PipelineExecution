{
 "cells": [
  {
   "cell_type": "markdown",
   "id": "83d0e696",
   "metadata": {},
   "source": [
    "# Were you able to successfully create and execute the pipeline using the provided walkthrough?"
   ]
  },
  {
   "cell_type": "markdown",
   "id": "1e975f83",
   "metadata": {},
   "source": [
    "Yes, I was"
   ]
  },
  {
   "cell_type": "markdown",
   "id": "a586c181",
   "metadata": {},
   "source": []
  },
  {
   "cell_type": "markdown",
   "id": "5cafcc06",
   "metadata": {},
   "source": [
    "# What (if any) blockers did you encounter?"
   ]
  },
  {
   "cell_type": "markdown",
   "id": "c15e1b40",
   "metadata": {},
   "source": [
    "Had some issues getting into sage and dealt with some blockings but I think I got it"
   ]
  },
  {
   "cell_type": "markdown",
   "id": "b974ab1a",
   "metadata": {},
   "source": []
  },
  {
   "cell_type": "markdown",
   "id": "e0328248",
   "metadata": {},
   "source": [
    "# Do you have any suggestions for improving this material?"
   ]
  },
  {
   "cell_type": "markdown",
   "id": "a702b9db",
   "metadata": {},
   "source": [
    "Maybe more organized, it was a bit confusing"
   ]
  },
  {
   "cell_type": "markdown",
   "id": "32645543",
   "metadata": {},
   "source": []
  }
 ],
 "metadata": {
  "kernelspec": {
   "display_name": "Python 3 (ipykernel)",
   "language": "python",
   "name": "python3"
  },
  "language_info": {
   "codemirror_mode": {
    "name": "ipython",
    "version": 3
   },
   "file_extension": ".py",
   "mimetype": "text/x-python",
   "name": "python",
   "nbconvert_exporter": "python",
   "pygments_lexer": "ipython3",
   "version": "3.9.12"
  }
 },
 "nbformat": 4,
 "nbformat_minor": 5
}
